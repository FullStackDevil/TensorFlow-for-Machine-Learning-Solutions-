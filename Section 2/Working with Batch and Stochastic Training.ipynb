{
 "cells": [
  {
   "cell_type": "code",
   "execution_count": 1,
   "metadata": {},
   "outputs": [],
   "source": [
    "import matplotlib.pyplot as plt\n",
    "import numpy as np\n",
    "import tensorflow as tf\n",
    "from tensorflow.python.framework import ops\n",
    "ops.reset_default_graph()\n",
    "sess = tf.Session()"
   ]
  },
  {
   "cell_type": "code",
   "execution_count": 2,
   "metadata": {},
   "outputs": [],
   "source": [
    "x_vals = np.random.normal(1, 0.1, 100)\n",
    "y_vals = np.repeat(10., 100)\n",
    "x_data = tf.placeholder(shape=[1], dtype=tf.float32)\n",
    "y_target = tf.placeholder(shape=[1], dtype=tf.float32)"
   ]
  },
  {
   "cell_type": "code",
   "execution_count": 3,
   "metadata": {},
   "outputs": [],
   "source": [
    "A = tf.Variable(tf.random_normal(shape=[1]))\n",
    "my_output = tf.multiply(x_data, A)"
   ]
  },
  {
   "cell_type": "code",
   "execution_count": 4,
   "metadata": {},
   "outputs": [],
   "source": [
    "loss = tf.square(my_output - y_target)"
   ]
  },
  {
   "cell_type": "code",
   "execution_count": 5,
   "metadata": {},
   "outputs": [],
   "source": [
    "my_opt = tf.train.GradientDescentOptimizer(0.02)\n",
    "train_step = my_opt.minimize(loss)\n",
    "init = tf.global_variables_initializer()\n",
    "sess.run(init)"
   ]
  },
  {
   "cell_type": "code",
   "execution_count": 6,
   "metadata": {},
   "outputs": [
    {
     "name": "stdout",
     "output_type": "stream",
     "text": [
      "Step #5 A = [ 1.2554996]\n",
      "Loss = [ 76.20949554]\n",
      "Step #10 A = [ 2.94484711]\n",
      "Loss = [ 49.4293251]\n",
      "Step #15 A = [ 4.20116663]\n",
      "Loss = [ 37.70275497]\n",
      "Step #20 A = [ 5.25882006]\n",
      "Loss = [ 20.55682755]\n",
      "Step #25 A = [ 6.12154436]\n",
      "Loss = [ 12.52971268]\n",
      "Step #30 A = [ 6.7993288]\n",
      "Loss = [ 6.5079298]\n",
      "Step #35 A = [ 7.37327957]\n",
      "Loss = [ 8.38439655]\n",
      "Step #40 A = [ 7.8472681]\n",
      "Loss = [ 4.1658926]\n",
      "Step #45 A = [ 8.2974453]\n",
      "Loss = [ 5.38523102]\n",
      "Step #50 A = [ 8.66053677]\n",
      "Loss = [ 7.65405512]\n",
      "Step #55 A = [ 8.91505527]\n",
      "Loss = [ 2.60181189]\n",
      "Step #60 A = [ 9.21213055]\n",
      "Loss = [ 7.49409533]\n",
      "Step #65 A = [ 9.35118008]\n",
      "Loss = [ 0.09045731]\n",
      "Step #70 A = [ 9.45406246]\n",
      "Loss = [ 0.00052064]\n",
      "Step #75 A = [ 9.51943493]\n",
      "Loss = [ 0.82117498]\n",
      "Step #80 A = [ 9.651824]\n",
      "Loss = [ 5.90100861]\n",
      "Step #85 A = [ 9.79797935]\n",
      "Loss = [ 0.00496614]\n",
      "Step #90 A = [ 9.77323341]\n",
      "Loss = [ 1.59600627]\n",
      "Step #95 A = [ 9.83376408]\n",
      "Loss = [ 0.2697542]\n",
      "Step #100 A = [ 9.83297443]\n",
      "Loss = [ 0.90169346]\n"
     ]
    }
   ],
   "source": [
    "loss_stochastic = []\n",
    "for i in range(100):\n",
    "    rand_index = np.random.choice(100)\n",
    "    rand_x = [x_vals[rand_index]]\n",
    "    rand_y = [y_vals[rand_index]]\n",
    "    sess.run(train_step, feed_dict={x_data: rand_x, y_target: rand_y})\n",
    "    if (i+1)%5==0:\n",
    "        print('Step #' + str(i+1) + ' A = ' + str(sess.run(A)))\n",
    "        temp_loss = sess.run(loss, feed_dict={x_data: rand_x, y_target: rand_y})\n",
    "        print('Loss = ' + str(temp_loss))\n",
    "        loss_stochastic.append(temp_loss)"
   ]
  },
  {
   "cell_type": "code",
   "execution_count": 7,
   "metadata": {},
   "outputs": [],
   "source": [
    "ops.reset_default_graph()\n",
    "sess = tf.Session()"
   ]
  },
  {
   "cell_type": "code",
   "execution_count": 8,
   "metadata": {},
   "outputs": [],
   "source": [
    "batch_size = 25"
   ]
  },
  {
   "cell_type": "code",
   "execution_count": 9,
   "metadata": {},
   "outputs": [],
   "source": [
    "x_vals = np.random.normal(1, 0.1, 100)\n",
    "y_vals = np.repeat(10., 100)\n",
    "x_data = tf.placeholder(shape=[None, 1], dtype=tf.float32)\n",
    "y_target = tf.placeholder(shape=[None, 1], dtype=tf.float32)"
   ]
  },
  {
   "cell_type": "code",
   "execution_count": 10,
   "metadata": {},
   "outputs": [],
   "source": [
    "A = tf.Variable(tf.random_normal(shape=[1,1]))\n",
    "my_output = tf.matmul(x_data, A)"
   ]
  },
  {
   "cell_type": "code",
   "execution_count": 11,
   "metadata": {},
   "outputs": [],
   "source": [
    "loss = tf.reduce_mean(tf.square(my_output - y_target))"
   ]
  },
  {
   "cell_type": "code",
   "execution_count": 12,
   "metadata": {},
   "outputs": [],
   "source": [
    "init = tf.global_variables_initializer()\n",
    "sess.run(init)\n",
    "my_opt = tf.train.GradientDescentOptimizer(0.02)\n",
    "train_step = my_opt.minimize(loss)"
   ]
  },
  {
   "cell_type": "code",
   "execution_count": 13,
   "metadata": {},
   "outputs": [
    {
     "name": "stdout",
     "output_type": "stream",
     "text": [
      "Step #5 A = [[ 1.21669877]]\n",
      "Loss = 77.9492\n",
      "Step #10 A = [[ 2.83310032]]\n",
      "Loss = 51.3589\n",
      "Step #15 A = [[ 4.14435291]]\n",
      "Loss = 32.3422\n",
      "Step #20 A = [[ 5.21581888]]\n",
      "Loss = 22.3942\n",
      "Step #25 A = [[ 6.08783531]]\n",
      "Loss = 15.9824\n",
      "Step #30 A = [[ 6.79933548]]\n",
      "Loss = 10.7887\n",
      "Step #35 A = [[ 7.37822056]]\n",
      "Loss = 6.74261\n",
      "Step #40 A = [[ 7.85534334]]\n",
      "Loss = 7.23616\n",
      "Step #45 A = [[ 8.23376083]]\n",
      "Loss = 4.43234\n",
      "Step #50 A = [[ 8.54442501]]\n",
      "Loss = 3.12063\n",
      "Step #55 A = [[ 8.82495308]]\n",
      "Loss = 2.23612\n",
      "Step #60 A = [[ 9.03443623]]\n",
      "Loss = 1.51141\n",
      "Step #65 A = [[ 9.17576408]]\n",
      "Loss = 2.14196\n",
      "Step #70 A = [[ 9.32617569]]\n",
      "Loss = 2.04008\n",
      "Step #75 A = [[ 9.43649101]]\n",
      "Loss = 1.18854\n",
      "Step #80 A = [[ 9.51524067]]\n",
      "Loss = 0.679403\n",
      "Step #85 A = [[ 9.5851593]]\n",
      "Loss = 1.65102\n",
      "Step #90 A = [[ 9.64157963]]\n",
      "Loss = 1.41198\n",
      "Step #95 A = [[ 9.69599724]]\n",
      "Loss = 1.39164\n",
      "Step #100 A = [[ 9.7446661]]\n",
      "Loss = 2.01454\n"
     ]
    }
   ],
   "source": [
    "loss_batch = []\n",
    "for i in range(100):\n",
    "    rand_index = np.random.choice(100, size=batch_size)\n",
    "    rand_x = np.transpose([x_vals[rand_index]])\n",
    "    rand_y = np.transpose([y_vals[rand_index]])\n",
    "    sess.run(train_step, feed_dict={x_data: rand_x, y_target: rand_y})\n",
    "    if (i+1)%5==0:\n",
    "        print('Step #' + str(i+1) + ' A = ' + str(sess.run(A)))\n",
    "        temp_loss = sess.run(loss, feed_dict={x_data: rand_x, y_target: rand_y})\n",
    "        print('Loss = ' + str(temp_loss))\n",
    "        loss_batch.append(temp_loss)"
   ]
  },
  {
   "cell_type": "code",
   "execution_count": 14,
   "metadata": {},
   "outputs": [
    {
     "data": {
      "image/png": "[encoded data removed]",
      "text/plain": [
       "<matplotlib.figure.Figure at 0x60356d8>"
      ]
     },
     "metadata": {},
     "output_type": "display_data"
    }
   ],
   "source": [
    "plt.plot(range(0, 100, 5), loss_stochastic, 'b-', label='Stochastic Loss')\n",
    "plt.plot(range(0, 100, 5), loss_batch, 'r--', label='Batch Loss, size=20')\n",
    "plt.legend(loc='upper right', prop={'size': 11})\n",
    "plt.show()"
   ]
  },
  {
   "cell_type": "code",
   "execution_count": null,
   "metadata": {},
   "outputs": [],
   "source": []
  }
 ],
 "metadata": {
  "kernelspec": {
   "display_name": "Python 3",
   "language": "python",
   "name": "python3"
  },
  "language_info": {
   "codemirror_mode": {
    "name": "ipython",
    "version": 3
   },
   "file_extension": ".py",
   "mimetype": "text/x-python",
   "name": "python",
   "nbconvert_exporter": "python",
   "pygments_lexer": "ipython3",
   "version": "3.5.0"
  }
 },
 "nbformat": 4,
 "nbformat_minor": 2
}
