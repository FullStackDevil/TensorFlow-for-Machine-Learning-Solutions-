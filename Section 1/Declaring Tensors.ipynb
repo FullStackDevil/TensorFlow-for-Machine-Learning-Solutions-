{
 "cells": [
  {
   "cell_type": "code",
   "execution_count": 1,
   "metadata": {},
   "outputs": [],
   "source": [
    "import tensorflow as tf\n",
    "from tensorflow.python.framework import ops\n",
    "ops.reset_default_graph()"
   ]
  },
  {
   "cell_type": "code",
   "execution_count": 2,
   "metadata": {},
   "outputs": [],
   "source": [
    "sess = tf.Session()"
   ]
  },
  {
   "cell_type": "code",
   "execution_count": 3,
   "metadata": {},
   "outputs": [],
   "source": [
    "my_tensor = tf.zeros([1,20])"
   ]
  },
  {
   "cell_type": "code",
   "execution_count": 4,
   "metadata": {},
   "outputs": [
    {
     "data": {
      "text/plain": [
       "array([[ 0.,  0.,  0.,  0.,  0.,  0.,  0.,  0.,  0.,  0.,  0.,  0.,  0.,\n",
       "         0.,  0.,  0.,  0.,  0.,  0.,  0.]], dtype=float32)"
      ]
     },
     "execution_count": 4,
     "metadata": {},
     "output_type": "execute_result"
    }
   ],
   "source": [
    "sess.run(my_tensor)"
   ]
  },
  {
   "cell_type": "code",
   "execution_count": 5,
   "metadata": {},
   "outputs": [],
   "source": [
    "my_var = tf.Variable(tf.zeros([1,20]))"
   ]
  },
  {
   "cell_type": "code",
   "execution_count": 6,
   "metadata": {},
   "outputs": [
    {
     "data": {
      "text/plain": [
       "array([[ 0.,  0.,  0.,  0.,  0.,  0.,  0.,  0.,  0.,  0.,  0.,  0.,  0.,\n",
       "         0.,  0.,  0.,  0.,  0.,  0.,  0.]], dtype=float32)"
      ]
     },
     "execution_count": 6,
     "metadata": {},
     "output_type": "execute_result"
    }
   ],
   "source": [
    "sess.run(my_var.initializer)\n",
    "sess.run(my_var)"
   ]
  },
  {
   "cell_type": "code",
   "execution_count": 7,
   "metadata": {},
   "outputs": [],
   "source": [
    "row_dim = 2\n",
    "col_dim = 3"
   ]
  },
  {
   "cell_type": "code",
   "execution_count": 8,
   "metadata": {},
   "outputs": [],
   "source": [
    "zero_var = tf.Variable(tf.zeros([row_dim, col_dim]))\n",
    "ones_var = tf.Variable(tf.ones([row_dim, col_dim]))"
   ]
  },
  {
   "cell_type": "code",
   "execution_count": 9,
   "metadata": {},
   "outputs": [
    {
     "name": "stdout",
     "output_type": "stream",
     "text": [
      "[[ 0.  0.  0.]\n",
      " [ 0.  0.  0.]]\n",
      "[[ 1.  1.  1.]\n",
      " [ 1.  1.  1.]]\n"
     ]
    }
   ],
   "source": [
    "sess.run(zero_var.initializer)\n",
    "sess.run(ones_var.initializer)\n",
    "print(sess.run(zero_var))\n",
    "print(sess.run(ones_var))"
   ]
  },
  {
   "cell_type": "code",
   "execution_count": 10,
   "metadata": {},
   "outputs": [
    {
     "name": "stdout",
     "output_type": "stream",
     "text": [
      "[[ 1.  1.  1.]\n",
      " [ 1.  1.  1.]]\n",
      "[[ 0.  0.  0.]\n",
      " [ 0.  0.  0.]]\n"
     ]
    }
   ],
   "source": [
    "zero_similar = tf.Variable(tf.zeros_like(zero_var))\n",
    "ones_similar = tf.Variable(tf.ones_like(ones_var))\n",
    "sess.run(ones_similar.initializer)\n",
    "sess.run(zero_similar.initializer)\n",
    "print(sess.run(ones_similar))\n",
    "print(sess.run(zero_similar))"
   ]
  },
  {
   "cell_type": "code",
   "execution_count": 11,
   "metadata": {},
   "outputs": [
    {
     "name": "stdout",
     "output_type": "stream",
     "text": [
      "[[-1 -1 -1]\n",
      " [-1 -1 -1]]\n"
     ]
    }
   ],
   "source": [
    "fill_var = tf.Variable(tf.fill([row_dim, col_dim], -1))\n",
    "sess.run(fill_var.initializer)\n",
    "print(sess.run(fill_var))"
   ]
  },
  {
   "cell_type": "code",
   "execution_count": 12,
   "metadata": {},
   "outputs": [
    {
     "name": "stdout",
     "output_type": "stream",
     "text": [
      "[8 6 7 5 3 0 9]\n",
      "[[-1 -1 -1]\n",
      " [-1 -1 -1]]\n"
     ]
    }
   ],
   "source": [
    "const_var = tf.Variable(tf.constant([8, 6, 7, 5, 3, 0, 9]))\n",
    "const_fill_var = tf.Variable(tf.constant(-1, shape=[row_dim, col_dim]))\n",
    "sess.run(const_var.initializer)\n",
    "sess.run(const_fill_var.initializer)\n",
    "print(sess.run(const_var))\n",
    "print(sess.run(const_fill_var))"
   ]
  },
  {
   "cell_type": "code",
   "execution_count": 13,
   "metadata": {},
   "outputs": [
    {
     "name": "stdout",
     "output_type": "stream",
     "text": [
      "[ 0.   0.5  1. ]\n",
      "[ 6  9 12]\n"
     ]
    }
   ],
   "source": [
    "linear_var = tf.Variable(tf.linspace(start=0.0, stop=1.0, num=3))\n",
    "sequence_var = tf.Variable(tf.range(start=6, limit=15, delta=3))\n",
    "sess.run(linear_var.initializer)\n",
    "sess.run(sequence_var.initializer)\n",
    "print(sess.run(linear_var))\n",
    "print(sess.run(sequence_var))"
   ]
  },
  {
   "cell_type": "code",
   "execution_count": 14,
   "metadata": {},
   "outputs": [
    {
     "name": "stdout",
     "output_type": "stream",
     "text": [
      "[[-0.99707866 -2.03361392 -0.92350852]\n",
      " [ 1.00205624 -0.08134973 -0.17991057]]\n",
      "[[ 3.77876043  3.10003567  2.9727149 ]\n",
      " [ 2.77358055  2.05358505  3.09140253]]\n"
     ]
    }
   ],
   "source": [
    "rnorm_var = tf.random_normal([row_dim, col_dim], mean=0.0, stddev=1.0)\n",
    "runif_var = tf.random_uniform([row_dim, col_dim], minval=0, maxval=4)\n",
    "print(sess.run(rnorm_var))\n",
    "print(sess.run(runif_var))"
   ]
  },
  {
   "cell_type": "code",
   "execution_count": 15,
   "metadata": {},
   "outputs": [],
   "source": [
    "ops.reset_default_graph()\n",
    "sess = tf.Session()\n",
    "my_var = tf.Variable(tf.zeros([1,20]))\n",
    "merged = tf.summary.merge_all()\n",
    "writer = tf.summary.FileWriter(\"./logs\", graph=sess.graph)\n",
    "initialize_op = tf.global_variables_initializer()\n",
    "sess.run(initialize_op)"
   ]
  },
  {
   "cell_type": "code",
   "execution_count": null,
   "metadata": {},
   "outputs": [],
   "source": []
  }
 ],
 "metadata": {
  "kernelspec": {
   "display_name": "Python 3",
   "language": "python",
   "name": "python3"
  },
  "language_info": {
   "codemirror_mode": {
    "name": "ipython",
    "version": 3
   },
   "file_extension": ".py",
   "mimetype": "text/x-python",
   "name": "python",
   "nbconvert_exporter": "python",
   "pygments_lexer": "ipython3",
   "version": "3.6.0"
  }
 },
 "nbformat": 4,
 "nbformat_minor": 2
}
