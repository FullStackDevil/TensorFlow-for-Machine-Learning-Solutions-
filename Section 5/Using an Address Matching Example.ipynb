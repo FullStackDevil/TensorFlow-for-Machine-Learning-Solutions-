{
 "cells": [
  {
   "cell_type": "code",
   "execution_count": 1,
   "metadata": {},
   "outputs": [],
   "source": [
    "import random\n",
    "import string\n",
    "import numpy as np\n",
    "import tensorflow as tf\n",
    "from tensorflow.python.framework import ops\n",
    "ops.reset_default_graph()"
   ]
  },
  {
   "cell_type": "code",
   "execution_count": 2,
   "metadata": {},
   "outputs": [],
   "source": [
    "n = 10\n",
    "street_names = ['abbey', 'baker', 'canal', 'donner', 'elm']\n",
    "street_types = ['rd', 'st', 'ln', 'pass', 'ave']\n",
    "rand_zips = [random.randint(65000,65999) for i in range(5)]\n",
    "numbers = [random.randint(1, 9999) for i in range(n)]\n",
    "streets = [random.choice(street_names) for i in range(n)]\n",
    "street_suffs = [random.choice(street_types) for i in range(n)]\n",
    "zips = [random.choice(rand_zips) for i in range(n)]\n",
    "full_streets = [str(x) + ' ' + y + ' ' + z for x,y,z in zip(numbers, streets, street_suffs)]\n",
    "reference_data = [list(x) for x in zip(full_streets,zips)]"
   ]
  },
  {
   "cell_type": "code",
   "execution_count": 3,
   "metadata": {},
   "outputs": [],
   "source": [
    "def create_typo(s, prob=0.75):\n",
    "    if random.uniform(0,1) < prob:\n",
    "        rand_ind = random.choice(range(len(s)))\n",
    "        s_list = list(s)\n",
    "        s_list[rand_ind]=random.choice(string.ascii_lowercase)\n",
    "        s = ''.join(s_list)\n",
    "    return(s)\n",
    "typo_streets = [create_typo(x) for x in streets]\n",
    "typo_full_streets = [str(x) + ' ' + y + ' ' + z for x,y,z in zip(numbers, typo_streets, street_suffs)]\n",
    "test_data = [list(x) for x in zip(typo_full_streets,zips)]"
   ]
  },
  {
   "cell_type": "code",
   "execution_count": 4,
   "metadata": {},
   "outputs": [],
   "source": [
    "sess = tf.Session()\n",
    "test_address = tf.sparse_placeholder( dtype=tf.string)\n",
    "test_zip = tf.placeholder(shape=[None, 1], dtype=tf.float32)\n",
    "ref_address = tf.sparse_placeholder(dtype=tf.string)\n",
    "ref_zip = tf.placeholder(shape=[None, n], dtype=tf.float32)"
   ]
  },
  {
   "cell_type": "code",
   "execution_count": 5,
   "metadata": {},
   "outputs": [],
   "source": [
    "zip_dist = tf.square(tf.subtract(ref_zip, test_zip))\n",
    "address_dist = tf.edit_distance(test_address, ref_address, normalize=True)"
   ]
  },
  {
   "cell_type": "code",
   "execution_count": 6,
   "metadata": {},
   "outputs": [],
   "source": [
    "zip_max = tf.gather(tf.squeeze(zip_dist), tf.argmax(zip_dist, 1))\n",
    "zip_min = tf.gather(tf.squeeze(zip_dist), tf.argmin(zip_dist, 1))\n",
    "zip_sim = tf.div(tf.subtract(zip_max, zip_dist), tf.subtract(zip_max, zip_min))\n",
    "address_sim = tf.subtract(1., address_dist)"
   ]
  },
  {
   "cell_type": "code",
   "execution_count": 7,
   "metadata": {},
   "outputs": [],
   "source": [
    "address_weight = 0.5\n",
    "zip_weight = 1. - address_weight\n",
    "weighted_sim = tf.add(tf.transpose(tf.multiply(address_weight, address_sim)), tf.multiply(zip_weight, zip_sim))\n",
    "top_match_index = tf.argmax(weighted_sim, 1)"
   ]
  },
  {
   "cell_type": "code",
   "execution_count": 8,
   "metadata": {},
   "outputs": [],
   "source": [
    "def sparse_from_word_vec(word_vec):\n",
    "    num_words = len(word_vec)\n",
    "    indices = [[xi, 0, yi] for xi,x in enumerate(word_vec) for yi,y in enumerate(x)]\n",
    "    chars = list(''.join(word_vec))\n",
    "    return(tf.SparseTensorValue(indices, chars, [num_words,1,1]))"
   ]
  },
  {
   "cell_type": "code",
   "execution_count": 9,
   "metadata": {},
   "outputs": [],
   "source": [
    "reference_addresses = [x[0] for x in reference_data]\n",
    "reference_zips = np.array([[x[1] for x in reference_data]])"
   ]
  },
  {
   "cell_type": "code",
   "execution_count": 10,
   "metadata": {},
   "outputs": [],
   "source": [
    "sparse_ref_set = sparse_from_word_vec(reference_addresses)"
   ]
  },
  {
   "cell_type": "code",
   "execution_count": 11,
   "metadata": {},
   "outputs": [
    {
     "name": "stdout",
     "output_type": "stream",
     "text": [
      "Address: 8472 abzey st, 65279\n",
      "Match  : 8472 abbey st, 65279\n",
      "Address: 9634 donwer st, 65559\n",
      "Match  : 9634 donner st, 65559\n",
      "Address: 7075 canax pass, 65279\n",
      "Match  : 7075 canal pass, 65279\n",
      "Address: 2817 bayer rd, 65559\n",
      "Match  : 2817 baker rd, 65559\n",
      "Address: 6184 dmnner pass, 65999\n",
      "Match  : 6184 donner pass, 65999\n",
      "Address: 9485 donnes rd, 65737\n",
      "Match  : 9485 donner rd, 65737\n",
      "Address: 3511 jaker pass, 65999\n",
      "Match  : 3511 baker pass, 65999\n",
      "Address: 8357 uaker pass, 65559\n",
      "Match  : 8357 baker pass, 65559\n",
      "Address: 4425 abbey pass, 65279\n",
      "Match  : 4425 abbey pass, 65279\n",
      "Address: 4001 xaker ln, 65279\n",
      "Match  : 4001 baker ln, 65279\n"
     ]
    }
   ],
   "source": [
    "for i in range(n):\n",
    "    test_address_entry = test_data[i][0]\n",
    "    test_zip_entry = [[test_data[i][1]]]\n",
    "    test_address_repeated = [test_address_entry] * n\n",
    "    sparse_test_set = sparse_from_word_vec(test_address_repeated)\n",
    "    feeddict={test_address: sparse_test_set,\n",
    "               test_zip: test_zip_entry,\n",
    "               ref_address: sparse_ref_set,\n",
    "               ref_zip: reference_zips}\n",
    "    best_match = sess.run(top_match_index, feed_dict=feeddict)\n",
    "    best_street = reference_addresses[best_match[0]]\n",
    "    [best_zip] = reference_zips[0][best_match]\n",
    "    [[test_zip_]] = test_zip_entry\n",
    "    print('Address: ' + str(test_address_entry) + ', ' + str(test_zip_))\n",
    "    print('Match  : ' + str(best_street) + ', ' + str(best_zip))"
   ]
  },
  {
   "cell_type": "code",
   "execution_count": null,
   "metadata": {},
   "outputs": [],
   "source": []
  }
 ],
 "metadata": {
  "kernelspec": {
   "display_name": "Python 3",
   "language": "python",
   "name": "python3"
  },
  "language_info": {
   "codemirror_mode": {
    "name": "ipython",
    "version": 3
   },
   "file_extension": ".py",
   "mimetype": "text/x-python",
   "name": "python",
   "nbconvert_exporter": "python",
   "pygments_lexer": "ipython3",
   "version": "3.5.0"
  }
 },
 "nbformat": 4,
 "nbformat_minor": 2
}
